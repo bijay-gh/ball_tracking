{
 "cells": [
  {
   "cell_type": "code",
   "execution_count": 1,
   "metadata": {},
   "outputs": [],
   "source": [
    "import csv\n",
    "import json\n",
    "import math\n",
    "import numpy as np"
   ]
  },
  {
   "cell_type": "code",
   "execution_count": 3,
   "metadata": {},
   "outputs": [],
   "source": [
    "# Read camera parameters from the JSON file\n",
    "with open(\"./camera_params.json\", \"r\") as f:\n",
    "    camera_params = json.load(f)\n",
    "\n",
    "fx = camera_params[\"intrinsic\"][\"fx\"]\n",
    "fy = camera_params[\"intrinsic\"][\"fy\"]\n",
    "ox = camera_params[\"intrinsic\"][\"ox\"]\n",
    "oy = camera_params[\"intrinsic\"][\"oy\"]"
   ]
  },
  {
   "cell_type": "code",
   "execution_count": 4,
   "metadata": {},
   "outputs": [
    {
     "name": "stdout",
     "output_type": "stream",
     "text": [
      "fx:3587.100346444214, fy:3763.5001025688343, ox:2576.746260572932,oy:2071.1602382019896\n"
     ]
    }
   ],
   "source": [
    "print(f\"fx:{fx}, fy:{fy}, ox:{ox},oy:{oy}\")"
   ]
  },
  {
   "cell_type": "code",
   "execution_count": 17,
   "metadata": {},
   "outputs": [
    {
     "name": "stdout",
     "output_type": "stream",
     "text": [
      "Ball coordinates in camera coordinate system: x=-13530.172480806474, y=-10843.568938471784, z=20166.316480285263\n",
      "Ball coordinates in camera coordinate system: x=-17279.638369427266, y=-14591.136844033752, z=27662.12215637248\n",
      "Ball coordinates in camera coordinate system: x=-17279.638369427266, y=-14591.136844033752, z=27662.12215637248\n",
      "Ball coordinates in camera coordinate system: x=-19429.73576047457, y=-17035.729021348718, z=32810.34525382829\n",
      "Ball coordinates in camera coordinate system: x=-21201.096969443046, y=-19061.163669719677, z=37320.86950938838\n",
      "Ball coordinates in camera coordinate system: x=-24415.273434240346, y=-22302.597575922715, z=44394.98254025759\n",
      "Ball coordinates in camera coordinate system: x=-24552.938614753453, y=-22635.645060281873, z=45846.02057167803\n",
      "Ball coordinates in camera coordinate system: x=-24552.938614753453, y=-22635.645060281873, z=45846.02057167803\n",
      "Ball coordinates in camera coordinate system: x=-27854.778667450457, y=-25834.096143439336, z=53156.798750053065\n",
      "Ball coordinates in camera coordinate system: x=-30841.525844056985, y=-28633.090030821437, z=59928.272785973066\n",
      "Ball coordinates in camera coordinate system: x=-33241.47045674647, y=-30834.91749489363, z=65634.09144109454\n",
      "Ball coordinates in camera coordinate system: x=-36176.904277233094, y=-33421.14685113648, z=72426.65366280517\n",
      "Ball coordinates in camera coordinate system: x=-36176.904277233094, y=-33421.14685113648, z=72426.65366280517\n",
      "Ball coordinates in camera coordinate system: x=-36950.16574731571, y=-33973.38039994575, z=74859.07599598217\n",
      "Ball coordinates in camera coordinate system: x=-38154.54456358076, y=-34835.710491318336, z=78063.29498613435\n",
      "Ball coordinates in camera coordinate system: x=-42828.082891139034, y=-40524.94122142552, z=88432.27034817773\n",
      "Ball coordinates in camera coordinate system: x=-44354.89765882586, y=-43223.016858584495, z=92307.4951242017\n",
      "Ball coordinates in camera coordinate system: x=-44354.89765882586, y=-43223.016858584495, z=92307.4951242017\n",
      "Ball coordinates in camera coordinate system: x=-45728.47180613778, y=-45751.0310007431, z=95995.88940909355\n",
      "Ball coordinates in camera coordinate system: x=-49989.310215935424, y=-51009.58566556766, z=105558.24383896601\n",
      "Ball coordinates in camera coordinate system: x=-46669.88695709046, y=-48521.85916310446, z=99246.53965328376\n",
      "Ball coordinates in camera coordinate system: x=-39924.27719614474, y=-42142.13964687664, z=85538.4252211607\n",
      "Ball coordinates in camera coordinate system: x=-39924.27719614474, y=-42142.13964687664, z=85538.4252211607\n",
      "Ball coordinates in camera coordinate system: x=-50365.26234900094, y=-53740.361190807555, z=108437.72043694767\n",
      "Ball coordinates in camera coordinate system: x=-36118.10485016155, y=-38879.38653878415, z=78295.95896183183\n",
      "Ball coordinates in camera coordinate system: x=-49434.85973047342, y=-53607.93938950672, z=107621.36054286653\n",
      "Ball coordinates in camera coordinate system: x=-48529.26015876845, y=-52589.25568286406, z=105654.32374137515\n",
      "Ball coordinates in camera coordinate system: x=-48529.26015876845, y=-52589.25568286406, z=105654.32374137515\n",
      "Ball coordinates in camera coordinate system: x=-51865.91184943147, y=-55939.20873537424, z=112738.75378857974\n",
      "Ball coordinates in camera coordinate system: x=-54673.33539380348, y=-58636.657750099635, z=118698.25038330977\n",
      "Ball coordinates in camera coordinate system: x=-55436.96133944792, y=-59044.96466383147, z=120193.3962931467\n",
      "Ball coordinates in camera coordinate system: x=-59713.71696095119, y=-64180.68011541414, z=129255.58041704925\n",
      "Ball coordinates in camera coordinate system: x=-59713.71696095119, y=-64180.68011541414, z=129255.58041704925\n",
      "Ball coordinates in camera coordinate system: x=-108085.63138477135, y=-117086.31678881693, z=233563.1802279718\n",
      "Ball coordinates in camera coordinate system: x=-82411.20571240952, y=-89919.76789381121, z=177962.4832806662\n",
      "Ball coordinates in camera coordinate system: x=-83929.31197619846, y=-92042.96983289736, z=181063.6242013913\n",
      "Ball coordinates in camera coordinate system: x=-79589.25789077251, y=-87585.07915195709, z=171442.90385915825\n",
      "Ball coordinates in camera coordinate system: x=-79589.25789077251, y=-87585.07915195709, z=171442.90385915825\n",
      "Ball coordinates in camera coordinate system: x=-83358.7671078691, y=-91837.68991753405, z=179347.3882310859\n",
      "Ball coordinates in camera coordinate system: x=-93689.55667316866, y=-103277.31870135393, z=201415.24928107258\n",
      "Ball coordinates in camera coordinate system: x=-88750.5863909338, y=-97767.39924416483, z=190656.15244992852\n",
      "Ball coordinates in camera coordinate system: x=-83042.17132601659, y=-91294.40692364264, z=178250.45541852925\n"
     ]
    }
   ],
   "source": [
    "# Read the CSV file containing x_center, y_center, and radius\n",
    "with open(r\"E:\\Major_project_main\\Main\\test_data\\MVl_3208_1\\ball_info.csv\", \"r\") as f:\n",
    "    csv_reader = csv.DictReader(f)\n",
    "    for row in csv_reader:\n",
    "        x_center = float(row['x_center'])\n",
    "        y_center = float(row['y_center'])\n",
    "        radius = float(row['radius'])\n",
    "        x, y, z = calculate_coordinates(x_center, y_center, radius)\n",
    "        print(f\"Ball coordinates in camera coordinate system: x={x}, y={y}, z={z}\")"
   ]
  },
  {
   "cell_type": "code",
   "execution_count": 18,
   "metadata": {},
   "outputs": [],
   "source": [
    "# with open('./cropped_output.csv', 'r') as infile, open('./3d_output.csv', 'w', newline='') as outfile:\n",
    "#     reader = csv.DictReader(infile)\n",
    "#     fieldnames = ['x', 'y', 'z']\n",
    "#     writer = csv.DictWriter(outfile, fieldnames=fieldnames)\n",
    "#     writer.writeheader()\n",
    "    \n",
    "#     for row in reader:\n",
    "#         x_center = float(row['x_center'])\n",
    "#         y_center = float(row['y_center'])\n",
    "#         radius = float(row['radius'])\n",
    "#         x, y, z = calculate_coordinates(x_center, y_center, radius)\n",
    "        \n",
    "#         writer.writerow({'x': x, 'y': y, 'z': z})"
   ]
  },
  {
   "cell_type": "code",
   "execution_count": 16,
   "metadata": {},
   "outputs": [],
   "source": [
    "# Function to calculate x, y, z coordinates of the ball in the camera coordinate system\n",
    "def calculate_coordinates(x_center, y_center, radius, ball_radius_mm=182):\n",
    "    z = (fx * ball_radius_mm) / radius\n",
    "    x = (x_center - ox) * z / fx\n",
    "    y = (y_center - oy) * z / fy\n",
    "    return x, y, z"
   ]
  },
  {
   "cell_type": "code",
   "execution_count": 20,
   "metadata": {},
   "outputs": [],
   "source": [
    "import os\n",
    "import csv\n",
    "import json\n",
    "\n",
    "# folder_path = \"E:/Major_project_main/Main/test_data/MVl_3208_1\"\n",
    "csv_file = [file for file in os.listdir(folder_path) if file.endswith('.csv') and 'ball_info' in file][0]\n",
    "if len(csv_file) == 0:\n",
    "    print(\"Given folder does not contain required ball_info.csv file\")\n",
    "\n",
    "csv_path = os.path.join(folder_path, csv_file)\n",
    "json_file = os.path.splitext(csv_file)[0] + '_3d.json'\n",
    "json_path = os.path.join(folder_path, json_file)\n",
    "# print(json_path)\n",
    "\n",
    "frame_data = []\n",
    "with open(csv_path, 'r') as file:\n",
    "    reader = csv.DictReader(file)\n",
    "    for row in reader:\n",
    "        x_center = float(row['x_center'])\n",
    "        y_center = float(row['y_center'])\n",
    "        radius = float(row['radius'])\n",
    "        x, y, z = calculate_coordinates(x_center, y_center, radius)\n",
    "        data = {\n",
    "            \"frame_name\": row[\"filename\"],\n",
    "            \"x\": x,\n",
    "            \"y\":y,\n",
    "            \"z\":z \n",
    "        }\n",
    "        frame_data.append(data)\n",
    "with open(json_path, 'w') as file:\n",
    "    json.dump(frame_data, file, indent=4)\n",
    "\n",
    "\n",
    "        \n",
    "\n"
   ]
  },
  {
   "cell_type": "code",
   "execution_count": null,
   "metadata": {},
   "outputs": [],
   "source": []
  }
 ],
 "metadata": {
  "kernelspec": {
   "display_name": "base",
   "language": "python",
   "name": "python3"
  },
  "language_info": {
   "codemirror_mode": {
    "name": "ipython",
    "version": 3
   },
   "file_extension": ".py",
   "mimetype": "text/x-python",
   "name": "python",
   "nbconvert_exporter": "python",
   "pygments_lexer": "ipython3",
   "version": "3.9.13"
  },
  "orig_nbformat": 4
 },
 "nbformat": 4,
 "nbformat_minor": 2
}
